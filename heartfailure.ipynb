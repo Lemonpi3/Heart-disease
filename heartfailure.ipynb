{
 "cells": [
  {
   "cell_type": "code",
   "execution_count": 1,
   "id": "9867e996",
   "metadata": {
    "_cell_guid": "b1076dfc-b9ad-4769-8c92-a6c4dae69d19",
    "_uuid": "8f2839f25d086af736a60e9eeb907d3b93b6e0e5",
    "execution": {
     "iopub.execute_input": "2021-12-27T15:57:53.641855Z",
     "iopub.status.busy": "2021-12-27T15:57:53.640974Z",
     "iopub.status.idle": "2021-12-27T15:57:54.835568Z",
     "shell.execute_reply": "2021-12-27T15:57:54.835975Z",
     "shell.execute_reply.started": "2021-12-27T14:48:16.364888Z"
    },
    "papermill": {
     "duration": 1.221541,
     "end_time": "2021-12-27T15:57:54.836204",
     "exception": false,
     "start_time": "2021-12-27T15:57:53.614663",
     "status": "completed"
    },
    "tags": []
   },
   "outputs": [
    {
     "name": "stdout",
     "output_type": "stream",
     "text": [
      "/kaggle/input/heart-failure-prediction/heart.csv\n"
     ]
    }
   ],
   "source": [
    "import numpy as np # linear algebra\n",
    "import pandas as pd # data processing, CSV file I/O (e.g. pd.read_csv)\n",
    "import seaborn as sns\n",
    "import matplotlib.pyplot as plt\n",
    "%matplotlib inline\n",
    "import os\n",
    "for dirname, _, filenames in os.walk('/kaggle/input'):\n",
    "    for filename in filenames:\n",
    "        print(os.path.join(dirname, filename))"
   ]
  },
  {
   "cell_type": "markdown",
   "id": "6de6f17c",
   "metadata": {
    "papermill": {
     "duration": 0.015792,
     "end_time": "2021-12-27T15:57:54.869142",
     "exception": false,
     "start_time": "2021-12-27T15:57:54.853350",
     "status": "completed"
    },
    "tags": []
   },
   "source": [
    "# 1.Data exploration and getting insights"
   ]
  },
  {
   "cell_type": "code",
   "execution_count": 2,
   "id": "ed86198e",
   "metadata": {
    "execution": {
     "iopub.execute_input": "2021-12-27T15:57:54.905825Z",
     "iopub.status.busy": "2021-12-27T15:57:54.905320Z",
     "iopub.status.idle": "2021-12-27T15:57:54.944146Z",
     "shell.execute_reply": "2021-12-27T15:57:54.943474Z",
     "shell.execute_reply.started": "2021-12-27T14:21:50.825628Z"
    },
    "papermill": {
     "duration": 0.058878,
     "end_time": "2021-12-27T15:57:54.944277",
     "exception": false,
     "start_time": "2021-12-27T15:57:54.885399",
     "status": "completed"
    },
    "tags": []
   },
   "outputs": [
    {
     "data": {
      "text/html": [
       "<div>\n",
       "<style scoped>\n",
       "    .dataframe tbody tr th:only-of-type {\n",
       "        vertical-align: middle;\n",
       "    }\n",
       "\n",
       "    .dataframe tbody tr th {\n",
       "        vertical-align: top;\n",
       "    }\n",
       "\n",
       "    .dataframe thead th {\n",
       "        text-align: right;\n",
       "    }\n",
       "</style>\n",
       "<table border=\"1\" class=\"dataframe\">\n",
       "  <thead>\n",
       "    <tr style=\"text-align: right;\">\n",
       "      <th></th>\n",
       "      <th>Age</th>\n",
       "      <th>Sex</th>\n",
       "      <th>ChestPainType</th>\n",
       "      <th>RestingBP</th>\n",
       "      <th>Cholesterol</th>\n",
       "      <th>FastingBS</th>\n",
       "      <th>RestingECG</th>\n",
       "      <th>MaxHR</th>\n",
       "      <th>ExerciseAngina</th>\n",
       "      <th>Oldpeak</th>\n",
       "      <th>ST_Slope</th>\n",
       "      <th>HeartDisease</th>\n",
       "    </tr>\n",
       "  </thead>\n",
       "  <tbody>\n",
       "    <tr>\n",
       "      <th>0</th>\n",
       "      <td>40</td>\n",
       "      <td>M</td>\n",
       "      <td>ATA</td>\n",
       "      <td>140</td>\n",
       "      <td>289</td>\n",
       "      <td>0</td>\n",
       "      <td>Normal</td>\n",
       "      <td>172</td>\n",
       "      <td>N</td>\n",
       "      <td>0.0</td>\n",
       "      <td>Up</td>\n",
       "      <td>0</td>\n",
       "    </tr>\n",
       "    <tr>\n",
       "      <th>1</th>\n",
       "      <td>49</td>\n",
       "      <td>F</td>\n",
       "      <td>NAP</td>\n",
       "      <td>160</td>\n",
       "      <td>180</td>\n",
       "      <td>0</td>\n",
       "      <td>Normal</td>\n",
       "      <td>156</td>\n",
       "      <td>N</td>\n",
       "      <td>1.0</td>\n",
       "      <td>Flat</td>\n",
       "      <td>1</td>\n",
       "    </tr>\n",
       "    <tr>\n",
       "      <th>2</th>\n",
       "      <td>37</td>\n",
       "      <td>M</td>\n",
       "      <td>ATA</td>\n",
       "      <td>130</td>\n",
       "      <td>283</td>\n",
       "      <td>0</td>\n",
       "      <td>ST</td>\n",
       "      <td>98</td>\n",
       "      <td>N</td>\n",
       "      <td>0.0</td>\n",
       "      <td>Up</td>\n",
       "      <td>0</td>\n",
       "    </tr>\n",
       "    <tr>\n",
       "      <th>3</th>\n",
       "      <td>48</td>\n",
       "      <td>F</td>\n",
       "      <td>ASY</td>\n",
       "      <td>138</td>\n",
       "      <td>214</td>\n",
       "      <td>0</td>\n",
       "      <td>Normal</td>\n",
       "      <td>108</td>\n",
       "      <td>Y</td>\n",
       "      <td>1.5</td>\n",
       "      <td>Flat</td>\n",
       "      <td>1</td>\n",
       "    </tr>\n",
       "    <tr>\n",
       "      <th>4</th>\n",
       "      <td>54</td>\n",
       "      <td>M</td>\n",
       "      <td>NAP</td>\n",
       "      <td>150</td>\n",
       "      <td>195</td>\n",
       "      <td>0</td>\n",
       "      <td>Normal</td>\n",
       "      <td>122</td>\n",
       "      <td>N</td>\n",
       "      <td>0.0</td>\n",
       "      <td>Up</td>\n",
       "      <td>0</td>\n",
       "    </tr>\n",
       "  </tbody>\n",
       "</table>\n",
       "</div>"
      ],
      "text/plain": [
       "   Age Sex ChestPainType  RestingBP  Cholesterol  FastingBS RestingECG  MaxHR  \\\n",
       "0   40   M           ATA        140          289          0     Normal    172   \n",
       "1   49   F           NAP        160          180          0     Normal    156   \n",
       "2   37   M           ATA        130          283          0         ST     98   \n",
       "3   48   F           ASY        138          214          0     Normal    108   \n",
       "4   54   M           NAP        150          195          0     Normal    122   \n",
       "\n",
       "  ExerciseAngina  Oldpeak ST_Slope  HeartDisease  \n",
       "0              N      0.0       Up             0  \n",
       "1              N      1.0     Flat             1  \n",
       "2              N      0.0       Up             0  \n",
       "3              Y      1.5     Flat             1  \n",
       "4              N      0.0       Up             0  "
      ]
     },
     "execution_count": 2,
     "metadata": {},
     "output_type": "execute_result"
    }
   ],
   "source": [
    "data = pd.read_csv('../input/heart-failure-prediction/heart.csv')\n",
    "data.head()"
   ]
  },
  {
   "cell_type": "code",
   "execution_count": 3,
   "id": "28c75360",
   "metadata": {
    "execution": {
     "iopub.execute_input": "2021-12-27T15:57:54.983781Z",
     "iopub.status.busy": "2021-12-27T15:57:54.983061Z",
     "iopub.status.idle": "2021-12-27T15:57:54.986342Z",
     "shell.execute_reply": "2021-12-27T15:57:54.986857Z",
     "shell.execute_reply.started": "2021-12-27T14:35:27.863851Z"
    },
    "papermill": {
     "duration": 0.026195,
     "end_time": "2021-12-27T15:57:54.987080",
     "exception": false,
     "start_time": "2021-12-27T15:57:54.960885",
     "status": "completed"
    },
    "tags": []
   },
   "outputs": [
    {
     "data": {
      "text/plain": [
       "Age                 int64\n",
       "Sex                object\n",
       "ChestPainType      object\n",
       "RestingBP           int64\n",
       "Cholesterol         int64\n",
       "FastingBS           int64\n",
       "RestingECG         object\n",
       "MaxHR               int64\n",
       "ExerciseAngina     object\n",
       "Oldpeak           float64\n",
       "ST_Slope           object\n",
       "HeartDisease        int64\n",
       "dtype: object"
      ]
     },
     "execution_count": 3,
     "metadata": {},
     "output_type": "execute_result"
    }
   ],
   "source": [
    "#Checking Dtypes\n",
    "data.dtypes"
   ]
  },
  {
   "cell_type": "code",
   "execution_count": 4,
   "id": "b1562bb0",
   "metadata": {
    "execution": {
     "iopub.execute_input": "2021-12-27T15:57:55.014354Z",
     "iopub.status.busy": "2021-12-27T15:57:55.013909Z",
     "iopub.status.idle": "2021-12-27T15:57:55.019586Z",
     "shell.execute_reply": "2021-12-27T15:57:55.020012Z",
     "shell.execute_reply.started": "2021-12-27T14:35:45.623083Z"
    },
    "papermill": {
     "duration": 0.019394,
     "end_time": "2021-12-27T15:57:55.020130",
     "exception": false,
     "start_time": "2021-12-27T15:57:55.000736",
     "status": "completed"
    },
    "tags": []
   },
   "outputs": [
    {
     "data": {
      "text/plain": [
       "Age               0\n",
       "Sex               0\n",
       "ChestPainType     0\n",
       "RestingBP         0\n",
       "Cholesterol       0\n",
       "FastingBS         0\n",
       "RestingECG        0\n",
       "MaxHR             0\n",
       "ExerciseAngina    0\n",
       "Oldpeak           0\n",
       "ST_Slope          0\n",
       "HeartDisease      0\n",
       "dtype: int64"
      ]
     },
     "execution_count": 4,
     "metadata": {},
     "output_type": "execute_result"
    }
   ],
   "source": [
    "#Checking MissingValues\n",
    "data.isna().sum()"
   ]
  },
  {
   "cell_type": "code",
   "execution_count": 5,
   "id": "7f8a40ee",
   "metadata": {
    "execution": {
     "iopub.execute_input": "2021-12-27T15:57:55.044764Z",
     "iopub.status.busy": "2021-12-27T15:57:55.044306Z",
     "iopub.status.idle": "2021-12-27T15:57:55.047964Z",
     "shell.execute_reply": "2021-12-27T15:57:55.048354Z",
     "shell.execute_reply.started": "2021-12-27T15:25:10.969233Z"
    },
    "papermill": {
     "duration": 0.017297,
     "end_time": "2021-12-27T15:57:55.048524",
     "exception": false,
     "start_time": "2021-12-27T15:57:55.031227",
     "status": "completed"
    },
    "tags": []
   },
   "outputs": [],
   "source": [
    "categorical_features=['Sex','ChestPainType','FastingBS','RestingECG','ExerciseAngina','ST_Slope']\n",
    "numerical_features= ['Age','RestingBP','Cholesterol','MaxHR','Oldpeak']\n",
    "target = ['HeartDisease']"
   ]
  },
  {
   "cell_type": "code",
   "execution_count": 6,
   "id": "3b46cf28",
   "metadata": {
    "execution": {
     "iopub.execute_input": "2021-12-27T15:57:55.076673Z",
     "iopub.status.busy": "2021-12-27T15:57:55.076160Z",
     "iopub.status.idle": "2021-12-27T15:57:55.306271Z",
     "shell.execute_reply": "2021-12-27T15:57:55.305755Z",
     "shell.execute_reply.started": "2021-12-27T14:31:32.637577Z"
    },
    "papermill": {
     "duration": 0.245956,
     "end_time": "2021-12-27T15:57:55.306394",
     "exception": false,
     "start_time": "2021-12-27T15:57:55.060438",
     "status": "completed"
    },
    "tags": []
   },
   "outputs": [
    {
     "name": "stderr",
     "output_type": "stream",
     "text": [
      "/opt/conda/lib/python3.7/site-packages/seaborn/distributions.py:2619: FutureWarning: `distplot` is a deprecated function and will be removed in a future version. Please adapt your code to use either `displot` (a figure-level function with similar flexibility) or `histplot` (an axes-level function for histograms).\n",
      "  warnings.warn(msg, FutureWarning)\n"
     ]
    },
    {
     "name": "stdout",
     "output_type": "stream",
     "text": [
      "avg age = 54\n",
      "avg age of disiease = 56\n"
     ]
    },
    {
     "data": {
      "image/png": "[encoded data removed]",
      "text/plain": [
       "<Figure size 432x288 with 1 Axes>"
      ]
     },
     "metadata": {
      "needs_background": "light"
     },
     "output_type": "display_data"
    }
   ],
   "source": [
    "sns.distplot(a=data['Age'], kde=False)\n",
    "\n",
    "avg_age = round(data['Age'].mean())\n",
    "\n",
    "avg_heart_disease_age = round(data.loc[data[\"HeartDisease\"]>0].Age.mean())\n",
    "\n",
    "print(f'avg age = {avg_age}\\navg age of disiease = {avg_heart_disease_age}')"
   ]
  },
  {
   "cell_type": "code",
   "execution_count": 7,
   "id": "4e630567",
   "metadata": {
    "execution": {
     "iopub.execute_input": "2021-12-27T15:57:55.334314Z",
     "iopub.status.busy": "2021-12-27T15:57:55.333864Z",
     "iopub.status.idle": "2021-12-27T15:57:55.971678Z",
     "shell.execute_reply": "2021-12-27T15:57:55.971267Z",
     "shell.execute_reply.started": "2021-12-27T15:07:06.420962Z"
    },
    "papermill": {
     "duration": 0.652634,
     "end_time": "2021-12-27T15:57:55.971786",
     "exception": false,
     "start_time": "2021-12-27T15:57:55.319152",
     "status": "completed"
    },
    "tags": []
   },
   "outputs": [
    {
     "name": "stdout",
     "output_type": "stream",
     "text": [
      "Number of males = 725\n",
      "Number of Females = 193\n",
      "\n",
      "        \n",
      "Number of affected males = 458\n",
      "Number of affected females = 50\n",
      "\n",
      "        \n",
      "% of Male with disease= 63.17%\n",
      "% of Female with disease= 25.91%\n",
      "\n"
     ]
    },
    {
     "data": {
      "image/png": "[encoded data removed]",
      "text/plain": [
       "<Figure size 1296x1296 with 6 Axes>"
      ]
     },
     "metadata": {
      "needs_background": "light"
     },
     "output_type": "display_data"
    }
   ],
   "source": [
    "male = data.loc[data['Sex']=='M']\n",
    "female = data.loc[data['Sex']=='F']\n",
    "\n",
    "n_male = len(male)\n",
    "n_female = len(female)\n",
    "\n",
    "n_male_disease = len(male.loc[male[\"HeartDisease\"]>0])\n",
    "n_female_disease = len(female.loc[female[\"HeartDisease\"]>0])\n",
    "\n",
    "print(f'''Number of males = {n_male}\\nNumber of Females = {n_female}\\n\n",
    "        \\nNumber of affected males = {n_male_disease}\\nNumber of affected females = {n_female_disease}\\n\n",
    "        \\n% of Male with disease= {round(n_male_disease/n_male,4)*100}%\\n% of Female with disease= {round(n_female_disease/n_female,4)*100}%\\n''')\n",
    "\n",
    "ROWS, COLS = 2, 3\n",
    "fig, ax = plt.subplots(ROWS, COLS, figsize=(18, 18))\n",
    "row, col = 0, 0\n",
    "for i, categorical_feature in enumerate(categorical_features):\n",
    "    if col == COLS - 1:\n",
    "        row += 1\n",
    "    col = i % COLS\n",
    "    data[categorical_feature].value_counts().plot(kind='bar', ax=ax[row, col],color=['blue', 'red', 'green', 'yellow']).set_title(categorical_feature)\n",
    "\n",
    "\n"
   ]
  },
  {
   "cell_type": "markdown",
   "id": "9fe96c81",
   "metadata": {
    "execution": {
     "iopub.execute_input": "2021-12-27T14:41:22.679601Z",
     "iopub.status.busy": "2021-12-27T14:41:22.678487Z",
     "iopub.status.idle": "2021-12-27T14:41:22.705061Z",
     "shell.execute_reply": "2021-12-27T14:41:22.704248Z",
     "shell.execute_reply.started": "2021-12-27T14:41:22.679561Z"
    },
    "papermill": {
     "duration": 0.013813,
     "end_time": "2021-12-27T15:57:55.999242",
     "exception": false,
     "start_time": "2021-12-27T15:57:55.985429",
     "status": "completed"
    },
    "tags": []
   },
   "source": [
    "The data set it's not balanced.\n",
    "* There are more male samples than female, about 60% of males have a heart disease while about 25% of females do.\n",
    "* There are significaly more cases of ASY chestpain types than the other three and very few of TA chestpain\n",
    "* There are more samples of people that didn't do fasting.\n",
    "* There are more people with normal RestingECG , but more or less the same amounts of the other two types.\n",
    "* There are more people that didn't Excercise angina\n",
    "* There is a significant lack of down ST_Slope values "
   ]
  },
  {
   "cell_type": "code",
   "execution_count": 8,
   "id": "2c962829",
   "metadata": {
    "execution": {
     "iopub.execute_input": "2021-12-27T15:57:56.030098Z",
     "iopub.status.busy": "2021-12-27T15:57:56.029602Z",
     "iopub.status.idle": "2021-12-27T15:57:56.055360Z",
     "shell.execute_reply": "2021-12-27T15:57:56.054853Z",
     "shell.execute_reply.started": "2021-12-27T15:25:13.969454Z"
    },
    "papermill": {
     "duration": 0.042239,
     "end_time": "2021-12-27T15:57:56.055483",
     "exception": false,
     "start_time": "2021-12-27T15:57:56.013244",
     "status": "completed"
    },
    "tags": []
   },
   "outputs": [
    {
     "data": {
      "text/html": [
       "<div>\n",
       "<style scoped>\n",
       "    .dataframe tbody tr th:only-of-type {\n",
       "        vertical-align: middle;\n",
       "    }\n",
       "\n",
       "    .dataframe tbody tr th {\n",
       "        vertical-align: top;\n",
       "    }\n",
       "\n",
       "    .dataframe thead th {\n",
       "        text-align: right;\n",
       "    }\n",
       "</style>\n",
       "<table border=\"1\" class=\"dataframe\">\n",
       "  <thead>\n",
       "    <tr style=\"text-align: right;\">\n",
       "      <th></th>\n",
       "      <th>Age</th>\n",
       "      <th>RestingBP</th>\n",
       "      <th>Cholesterol</th>\n",
       "      <th>MaxHR</th>\n",
       "      <th>Oldpeak</th>\n",
       "    </tr>\n",
       "  </thead>\n",
       "  <tbody>\n",
       "    <tr>\n",
       "      <th>count</th>\n",
       "      <td>918.000000</td>\n",
       "      <td>918.000000</td>\n",
       "      <td>918.000000</td>\n",
       "      <td>918.000000</td>\n",
       "      <td>918.000000</td>\n",
       "    </tr>\n",
       "    <tr>\n",
       "      <th>mean</th>\n",
       "      <td>53.510893</td>\n",
       "      <td>132.396514</td>\n",
       "      <td>198.799564</td>\n",
       "      <td>136.809368</td>\n",
       "      <td>0.887364</td>\n",
       "    </tr>\n",
       "    <tr>\n",
       "      <th>std</th>\n",
       "      <td>9.432617</td>\n",
       "      <td>18.514154</td>\n",
       "      <td>109.384145</td>\n",
       "      <td>25.460334</td>\n",
       "      <td>1.066570</td>\n",
       "    </tr>\n",
       "    <tr>\n",
       "      <th>min</th>\n",
       "      <td>28.000000</td>\n",
       "      <td>0.000000</td>\n",
       "      <td>0.000000</td>\n",
       "      <td>60.000000</td>\n",
       "      <td>-2.600000</td>\n",
       "    </tr>\n",
       "    <tr>\n",
       "      <th>25%</th>\n",
       "      <td>47.000000</td>\n",
       "      <td>120.000000</td>\n",
       "      <td>173.250000</td>\n",
       "      <td>120.000000</td>\n",
       "      <td>0.000000</td>\n",
       "    </tr>\n",
       "    <tr>\n",
       "      <th>50%</th>\n",
       "      <td>54.000000</td>\n",
       "      <td>130.000000</td>\n",
       "      <td>223.000000</td>\n",
       "      <td>138.000000</td>\n",
       "      <td>0.600000</td>\n",
       "    </tr>\n",
       "    <tr>\n",
       "      <th>75%</th>\n",
       "      <td>60.000000</td>\n",
       "      <td>140.000000</td>\n",
       "      <td>267.000000</td>\n",
       "      <td>156.000000</td>\n",
       "      <td>1.500000</td>\n",
       "    </tr>\n",
       "    <tr>\n",
       "      <th>max</th>\n",
       "      <td>77.000000</td>\n",
       "      <td>200.000000</td>\n",
       "      <td>603.000000</td>\n",
       "      <td>202.000000</td>\n",
       "      <td>6.200000</td>\n",
       "    </tr>\n",
       "  </tbody>\n",
       "</table>\n",
       "</div>"
      ],
      "text/plain": [
       "              Age   RestingBP  Cholesterol       MaxHR     Oldpeak\n",
       "count  918.000000  918.000000   918.000000  918.000000  918.000000\n",
       "mean    53.510893  132.396514   198.799564  136.809368    0.887364\n",
       "std      9.432617   18.514154   109.384145   25.460334    1.066570\n",
       "min     28.000000    0.000000     0.000000   60.000000   -2.600000\n",
       "25%     47.000000  120.000000   173.250000  120.000000    0.000000\n",
       "50%     54.000000  130.000000   223.000000  138.000000    0.600000\n",
       "75%     60.000000  140.000000   267.000000  156.000000    1.500000\n",
       "max     77.000000  200.000000   603.000000  202.000000    6.200000"
      ]
     },
     "execution_count": 8,
     "metadata": {},
     "output_type": "execute_result"
    }
   ],
   "source": [
    "data[numerical_features].describe()"
   ]
  },
  {
   "cell_type": "code",
   "execution_count": 9,
   "id": "58a858e0",
   "metadata": {
    "execution": {
     "iopub.execute_input": "2021-12-27T15:57:56.092871Z",
     "iopub.status.busy": "2021-12-27T15:57:56.090206Z",
     "iopub.status.idle": "2021-12-27T15:57:56.252259Z",
     "shell.execute_reply": "2021-12-27T15:57:56.251678Z",
     "shell.execute_reply.started": "2021-12-27T15:48:17.689541Z"
    },
    "papermill": {
     "duration": 0.182184,
     "end_time": "2021-12-27T15:57:56.252397",
     "exception": false,
     "start_time": "2021-12-27T15:57:56.070213",
     "status": "completed"
    },
    "tags": []
   },
   "outputs": [
    {
     "data": {
      "text/plain": [
       "<AxesSubplot:>"
      ]
     },
     "execution_count": 9,
     "metadata": {},
     "output_type": "execute_result"
    },
    {
     "data": {
      "image/png": "[encoded data removed]",
      "text/plain": [
       "<Figure size 432x288 with 1 Axes>"
      ]
     },
     "metadata": {
      "needs_background": "light"
     },
     "output_type": "display_data"
    }
   ],
   "source": [
    "#Age group might be more usefull than age later on,dataset ages go up to 77 years old so I'll call the last category 70 or more in case the model recibes data from an 80+ patient.\n",
    "data['Age_group'] = pd.cut(x=data['Age'], bins=[30, 40, 50, 60, 70, 80],\n",
    "                            labels=['30 to 40', '40 to 50', '50 to 60', '60 to 70', '70 or more'])\n",
    "\n",
    "data['Age_group'].value_counts().plot(kind='bar')"
   ]
  },
  {
   "cell_type": "markdown",
   "id": "bb46a167",
   "metadata": {
    "papermill": {
     "duration": 0.021715,
     "end_time": "2021-12-27T15:57:56.296409",
     "exception": false,
     "start_time": "2021-12-27T15:57:56.274694",
     "status": "completed"
    },
    "tags": []
   },
   "source": [
    "Most of the samples age are around 50-60 years old"
   ]
  },
  {
   "cell_type": "code",
   "execution_count": 10,
   "id": "24491f4c",
   "metadata": {
    "execution": {
     "iopub.execute_input": "2021-12-27T15:57:56.343791Z",
     "iopub.status.busy": "2021-12-27T15:57:56.342954Z",
     "iopub.status.idle": "2021-12-27T15:57:56.473266Z",
     "shell.execute_reply": "2021-12-27T15:57:56.473734Z",
     "shell.execute_reply.started": "2021-12-27T15:22:57.058790Z"
    },
    "papermill": {
     "duration": 0.155289,
     "end_time": "2021-12-27T15:57:56.473892",
     "exception": false,
     "start_time": "2021-12-27T15:57:56.318603",
     "status": "completed"
    },
    "tags": []
   },
   "outputs": [
    {
     "data": {
      "text/plain": [
       "<AxesSubplot:>"
      ]
     },
     "execution_count": 10,
     "metadata": {},
     "output_type": "execute_result"
    },
    {
     "data": {
      "image/png": "[encoded data removed]",
      "text/plain": [
       "<Figure size 432x288 with 1 Axes>"
      ]
     },
     "metadata": {
      "needs_background": "light"
     },
     "output_type": "display_data"
    }
   ],
   "source": [
    "#Seeing how many of each group got a heath disease\n",
    "pd.cut(x=data.loc[data[\"HeartDisease\"]>0].Age, bins=[30, 40, 50, 60, 70, 80],\n",
    "        labels=['30 to 40', '40 to 50', '50 to 60', '60 to 70', '70 to 80']).value_counts().plot(kind='bar')"
   ]
  },
  {
   "cell_type": "markdown",
   "id": "1bc1f810",
   "metadata": {
    "papermill": {
     "duration": 0.015772,
     "end_time": "2021-12-27T15:57:56.507860",
     "exception": false,
     "start_time": "2021-12-27T15:57:56.492088",
     "status": "completed"
    },
    "tags": []
   },
   "source": [
    "From this graph we can get that people around 50 to 70 years old are more propense into haveing a hearth disease"
   ]
  },
  {
   "cell_type": "code",
   "execution_count": 11,
   "id": "8146a19f",
   "metadata": {
    "execution": {
     "iopub.execute_input": "2021-12-27T15:57:56.558446Z",
     "iopub.status.busy": "2021-12-27T15:57:56.557829Z",
     "iopub.status.idle": "2021-12-27T15:57:57.846640Z",
     "shell.execute_reply": "2021-12-27T15:57:57.846196Z",
     "shell.execute_reply.started": "2021-12-27T15:27:59.727272Z"
    },
    "papermill": {
     "duration": 1.315315,
     "end_time": "2021-12-27T15:57:57.846758",
     "exception": false,
     "start_time": "2021-12-27T15:57:56.531443",
     "status": "completed"
    },
    "tags": []
   },
   "outputs": [
    {
     "data": {
      "text/plain": [
       "array([<AxesSubplot:title={'center':'Age'}>,\n",
       "       <AxesSubplot:title={'center':'RestingBP'}>,\n",
       "       <AxesSubplot:title={'center':'Cholesterol'}>,\n",
       "       <AxesSubplot:title={'center':'MaxHR'}>,\n",
       "       <AxesSubplot:title={'center':'Oldpeak'}>], dtype=object)"
      ]
     },
     "execution_count": 11,
     "metadata": {},
     "output_type": "execute_result"
    },
    {
     "data": {
      "image/png": "[encoded data removed]",
      "text/plain": [
       "<Figure size 1440x360 with 5 Axes>"
      ]
     },
     "metadata": {
      "needs_background": "light"
     },
     "output_type": "display_data"
    }
   ],
   "source": [
    "fig, ax = plt.subplots(1, 5, figsize=(20, 5))\n",
    "data[data[\"HeartDisease\"]<1][numerical_features].hist(bins=30, color=\"blue\", alpha=0.5, ax=ax)\n",
    "data[data[\"HeartDisease\"]>0][numerical_features].hist(bins=30, color=\"red\", alpha=0.5, ax=ax)"
   ]
  },
  {
   "cell_type": "markdown",
   "id": "25ab950d",
   "metadata": {
    "papermill": {
     "duration": 0.016617,
     "end_time": "2021-12-27T15:57:57.880455",
     "exception": false,
     "start_time": "2021-12-27T15:57:57.863838",
     "status": "completed"
    },
    "tags": []
   },
   "source": [
    "#### The blue color represents people who didn't got a hearth disease while red represents the oposite.\n",
    "* People with a Max HearthRate bellow 150 were more likely to have a hearth disease\n",
    "* Almost all people with an oldpeak diferent than 0 ,the further away from 0 the less likely to find people that didn't have a hearth disease.\n",
    "* People who had Unhealthy levels of cholesterol (around 125-200 are the healthy levels of total cholesterol for adults) got higher chances of haveing a hearth disease, it seems most of them were with 0 cholesterol in this dataset.\n",
    "* People with a higher blood resting pressure got higher chances of getting a hearth disease(specially the ones that got between ~110-140), there are one or two with 0 blood pressure which basicaly means that the person should be dead so I might drop that ones.\n",
    "* As for age it was discussed on previous cells. People of ages 50-70 were more propence to have a heath disease."
   ]
  },
  {
   "cell_type": "code",
   "execution_count": null,
   "id": "2add3cdd",
   "metadata": {
    "papermill": {
     "duration": 0.016323,
     "end_time": "2021-12-27T15:57:57.913385",
     "exception": false,
     "start_time": "2021-12-27T15:57:57.897062",
     "status": "completed"
    },
    "tags": []
   },
   "outputs": [],
   "source": []
  }
 ],
 "metadata": {
  "kernelspec": {
   "display_name": "Python 3",
   "language": "python",
   "name": "python3"
  },
  "language_info": {
   "codemirror_mode": {
    "name": "ipython",
    "version": 3
   },
   "file_extension": ".py",
   "mimetype": "text/x-python",
   "name": "python",
   "nbconvert_exporter": "python",
   "pygments_lexer": "ipython3",
   "version": "3.7.12"
  },
  "papermill": {
   "default_parameters": {},
   "duration": 16.265287,
   "end_time": "2021-12-27T15:57:58.839639",
   "environment_variables": {},
   "exception": null,
   "input_path": "__notebook__.ipynb",
   "output_path": "__notebook__.ipynb",
   "parameters": {},
   "start_time": "2021-12-27T15:57:42.574352",
   "version": "2.3.3"
  }
 },
 "nbformat": 4,
 "nbformat_minor": 5
}
