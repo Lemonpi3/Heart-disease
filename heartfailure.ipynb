{
 "cells": [
  {
   "cell_type": "code",
   "execution_count": 1,
   "id": "54f733d8",
   "metadata": {
    "_cell_guid": "b1076dfc-b9ad-4769-8c92-a6c4dae69d19",
    "_uuid": "8f2839f25d086af736a60e9eeb907d3b93b6e0e5",
    "execution": {
     "iopub.execute_input": "2021-12-27T17:56:42.550068Z",
     "iopub.status.busy": "2021-12-27T17:56:42.548377Z",
     "iopub.status.idle": "2021-12-27T17:56:43.483444Z",
     "shell.execute_reply": "2021-12-27T17:56:43.484225Z",
     "shell.execute_reply.started": "2021-12-27T17:06:10.075920Z"
    },
    "papermill": {
     "duration": 0.958619,
     "end_time": "2021-12-27T17:56:43.484531",
     "exception": false,
     "start_time": "2021-12-27T17:56:42.525912",
     "status": "completed"
    },
    "tags": []
   },
   "outputs": [
    {
     "name": "stdout",
     "output_type": "stream",
     "text": [
      "/kaggle/input/heart-failure-prediction/heart.csv\n"
     ]
    }
   ],
   "source": [
    "import numpy as np # linear algebra\n",
    "import pandas as pd # data processing, CSV file I/O (e.g. pd.read_csv)\n",
    "import seaborn as sns\n",
    "import matplotlib.pyplot as plt\n",
    "%matplotlib inline\n",
    "import os\n",
    "for dirname, _, filenames in os.walk('/kaggle/input'):\n",
    "    for filename in filenames:\n",
    "        print(os.path.join(dirname, filename))"
   ]
  },
  {
   "cell_type": "markdown",
   "id": "8cefe3a0",
   "metadata": {
    "papermill": {
     "duration": 0.01642,
     "end_time": "2021-12-27T17:56:43.517839",
     "exception": false,
     "start_time": "2021-12-27T17:56:43.501419",
     "status": "completed"
    },
    "tags": []
   },
   "source": [
    "# 1.Data exploration and getting insights"
   ]
  },
  {
   "cell_type": "code",
   "execution_count": 2,
   "id": "dcc49102",
   "metadata": {
    "execution": {
     "iopub.execute_input": "2021-12-27T17:56:43.555793Z",
     "iopub.status.busy": "2021-12-27T17:56:43.555144Z",
     "iopub.status.idle": "2021-12-27T17:56:43.585265Z",
     "shell.execute_reply": "2021-12-27T17:56:43.585785Z",
     "shell.execute_reply.started": "2021-12-27T17:06:10.581364Z"
    },
    "papermill": {
     "duration": 0.051739,
     "end_time": "2021-12-27T17:56:43.585948",
     "exception": false,
     "start_time": "2021-12-27T17:56:43.534209",
     "status": "completed"
    },
    "tags": []
   },
   "outputs": [
    {
     "data": {
      "text/html": [
       "<div>\n",
       "<style scoped>\n",
       "    .dataframe tbody tr th:only-of-type {\n",
       "        vertical-align: middle;\n",
       "    }\n",
       "\n",
       "    .dataframe tbody tr th {\n",
       "        vertical-align: top;\n",
       "    }\n",
       "\n",
       "    .dataframe thead th {\n",
       "        text-align: right;\n",
       "    }\n",
       "</style>\n",
       "<table border=\"1\" class=\"dataframe\">\n",
       "  <thead>\n",
       "    <tr style=\"text-align: right;\">\n",
       "      <th></th>\n",
       "      <th>Age</th>\n",
       "      <th>Sex</th>\n",
       "      <th>ChestPainType</th>\n",
       "      <th>RestingBP</th>\n",
       "      <th>Cholesterol</th>\n",
       "      <th>FastingBS</th>\n",
       "      <th>RestingECG</th>\n",
       "      <th>MaxHR</th>\n",
       "      <th>ExerciseAngina</th>\n",
       "      <th>Oldpeak</th>\n",
       "      <th>ST_Slope</th>\n",
       "      <th>HeartDisease</th>\n",
       "    </tr>\n",
       "  </thead>\n",
       "  <tbody>\n",
       "    <tr>\n",
       "      <th>0</th>\n",
       "      <td>40</td>\n",
       "      <td>M</td>\n",
       "      <td>ATA</td>\n",
       "      <td>140</td>\n",
       "      <td>289</td>\n",
       "      <td>0</td>\n",
       "      <td>Normal</td>\n",
       "      <td>172</td>\n",
       "      <td>N</td>\n",
       "      <td>0.0</td>\n",
       "      <td>Up</td>\n",
       "      <td>0</td>\n",
       "    </tr>\n",
       "    <tr>\n",
       "      <th>1</th>\n",
       "      <td>49</td>\n",
       "      <td>F</td>\n",
       "      <td>NAP</td>\n",
       "      <td>160</td>\n",
       "      <td>180</td>\n",
       "      <td>0</td>\n",
       "      <td>Normal</td>\n",
       "      <td>156</td>\n",
       "      <td>N</td>\n",
       "      <td>1.0</td>\n",
       "      <td>Flat</td>\n",
       "      <td>1</td>\n",
       "    </tr>\n",
       "    <tr>\n",
       "      <th>2</th>\n",
       "      <td>37</td>\n",
       "      <td>M</td>\n",
       "      <td>ATA</td>\n",
       "      <td>130</td>\n",
       "      <td>283</td>\n",
       "      <td>0</td>\n",
       "      <td>ST</td>\n",
       "      <td>98</td>\n",
       "      <td>N</td>\n",
       "      <td>0.0</td>\n",
       "      <td>Up</td>\n",
       "      <td>0</td>\n",
       "    </tr>\n",
       "    <tr>\n",
       "      <th>3</th>\n",
       "      <td>48</td>\n",
       "      <td>F</td>\n",
       "      <td>ASY</td>\n",
       "      <td>138</td>\n",
       "      <td>214</td>\n",
       "      <td>0</td>\n",
       "      <td>Normal</td>\n",
       "      <td>108</td>\n",
       "      <td>Y</td>\n",
       "      <td>1.5</td>\n",
       "      <td>Flat</td>\n",
       "      <td>1</td>\n",
       "    </tr>\n",
       "    <tr>\n",
       "      <th>4</th>\n",
       "      <td>54</td>\n",
       "      <td>M</td>\n",
       "      <td>NAP</td>\n",
       "      <td>150</td>\n",
       "      <td>195</td>\n",
       "      <td>0</td>\n",
       "      <td>Normal</td>\n",
       "      <td>122</td>\n",
       "      <td>N</td>\n",
       "      <td>0.0</td>\n",
       "      <td>Up</td>\n",
       "      <td>0</td>\n",
       "    </tr>\n",
       "  </tbody>\n",
       "</table>\n",
       "</div>"
      ],
      "text/plain": [
       "   Age Sex ChestPainType  RestingBP  Cholesterol  FastingBS RestingECG  MaxHR  \\\n",
       "0   40   M           ATA        140          289          0     Normal    172   \n",
       "1   49   F           NAP        160          180          0     Normal    156   \n",
       "2   37   M           ATA        130          283          0         ST     98   \n",
       "3   48   F           ASY        138          214          0     Normal    108   \n",
       "4   54   M           NAP        150          195          0     Normal    122   \n",
       "\n",
       "  ExerciseAngina  Oldpeak ST_Slope  HeartDisease  \n",
       "0              N      0.0       Up             0  \n",
       "1              N      1.0     Flat             1  \n",
       "2              N      0.0       Up             0  \n",
       "3              Y      1.5     Flat             1  \n",
       "4              N      0.0       Up             0  "
      ]
     },
     "execution_count": 2,
     "metadata": {},
     "output_type": "execute_result"
    }
   ],
   "source": [
    "data = pd.read_csv('../input/heart-failure-prediction/heart.csv')\n",
    "data.head()"
   ]
  },
  {
   "cell_type": "code",
   "execution_count": 3,
   "id": "9f00cc60",
   "metadata": {
    "execution": {
     "iopub.execute_input": "2021-12-27T17:56:43.622938Z",
     "iopub.status.busy": "2021-12-27T17:56:43.622340Z",
     "iopub.status.idle": "2021-12-27T17:56:43.627035Z",
     "shell.execute_reply": "2021-12-27T17:56:43.627453Z",
     "shell.execute_reply.started": "2021-12-27T17:06:10.611366Z"
    },
    "papermill": {
     "duration": 0.024658,
     "end_time": "2021-12-27T17:56:43.627616",
     "exception": false,
     "start_time": "2021-12-27T17:56:43.602958",
     "status": "completed"
    },
    "tags": []
   },
   "outputs": [
    {
     "data": {
      "text/plain": [
       "(918, 12)"
      ]
     },
     "execution_count": 3,
     "metadata": {},
     "output_type": "execute_result"
    }
   ],
   "source": [
    "data.shape"
   ]
  },
  {
   "cell_type": "code",
   "execution_count": 4,
   "id": "b5b03c71",
   "metadata": {
    "execution": {
     "iopub.execute_input": "2021-12-27T17:56:43.672683Z",
     "iopub.status.busy": "2021-12-27T17:56:43.671834Z",
     "iopub.status.idle": "2021-12-27T17:56:43.675085Z",
     "shell.execute_reply": "2021-12-27T17:56:43.675468Z",
     "shell.execute_reply.started": "2021-12-27T17:06:10.619974Z"
    },
    "papermill": {
     "duration": 0.028123,
     "end_time": "2021-12-27T17:56:43.675646",
     "exception": false,
     "start_time": "2021-12-27T17:56:43.647523",
     "status": "completed"
    },
    "tags": []
   },
   "outputs": [
    {
     "data": {
      "text/plain": [
       "Age                 int64\n",
       "Sex                object\n",
       "ChestPainType      object\n",
       "RestingBP           int64\n",
       "Cholesterol         int64\n",
       "FastingBS           int64\n",
       "RestingECG         object\n",
       "MaxHR               int64\n",
       "ExerciseAngina     object\n",
       "Oldpeak           float64\n",
       "ST_Slope           object\n",
       "HeartDisease        int64\n",
       "dtype: object"
      ]
     },
     "execution_count": 4,
     "metadata": {},
     "output_type": "execute_result"
    }
   ],
   "source": [
    "#Checking Dtypes\n",
    "data.dtypes"
   ]
  },
  {
   "cell_type": "code",
   "execution_count": 5,
   "id": "4dc7af4d",
   "metadata": {
    "execution": {
     "iopub.execute_input": "2021-12-27T17:56:43.719520Z",
     "iopub.status.busy": "2021-12-27T17:56:43.718679Z",
     "iopub.status.idle": "2021-12-27T17:56:43.722618Z",
     "shell.execute_reply": "2021-12-27T17:56:43.722062Z",
     "shell.execute_reply.started": "2021-12-27T17:06:10.636203Z"
    },
    "papermill": {
     "duration": 0.028077,
     "end_time": "2021-12-27T17:56:43.722746",
     "exception": false,
     "start_time": "2021-12-27T17:56:43.694669",
     "status": "completed"
    },
    "tags": []
   },
   "outputs": [
    {
     "data": {
      "text/plain": [
       "Age               0\n",
       "Sex               0\n",
       "ChestPainType     0\n",
       "RestingBP         0\n",
       "Cholesterol       0\n",
       "FastingBS         0\n",
       "RestingECG        0\n",
       "MaxHR             0\n",
       "ExerciseAngina    0\n",
       "Oldpeak           0\n",
       "ST_Slope          0\n",
       "HeartDisease      0\n",
       "dtype: int64"
      ]
     },
     "execution_count": 5,
     "metadata": {},
     "output_type": "execute_result"
    }
   ],
   "source": [
    "#Checking MissingValues\n",
    "data.isna().sum()"
   ]
  },
  {
   "cell_type": "code",
   "execution_count": 6,
   "id": "41b370b6",
   "metadata": {
    "execution": {
     "iopub.execute_input": "2021-12-27T17:56:43.763977Z",
     "iopub.status.busy": "2021-12-27T17:56:43.763095Z",
     "iopub.status.idle": "2021-12-27T17:56:43.766878Z",
     "shell.execute_reply": "2021-12-27T17:56:43.767296Z",
     "shell.execute_reply.started": "2021-12-27T17:06:10.655979Z"
    },
    "papermill": {
     "duration": 0.024472,
     "end_time": "2021-12-27T17:56:43.767438",
     "exception": false,
     "start_time": "2021-12-27T17:56:43.742966",
     "status": "completed"
    },
    "tags": []
   },
   "outputs": [],
   "source": [
    "categorical_features=['Sex','ChestPainType','FastingBS','RestingECG','ExerciseAngina','ST_Slope']\n",
    "numerical_features= ['Age','RestingBP','Cholesterol','MaxHR','Oldpeak']\n",
    "target = ['HeartDisease']"
   ]
  },
  {
   "cell_type": "code",
   "execution_count": 7,
   "id": "084549fe",
   "metadata": {
    "execution": {
     "iopub.execute_input": "2021-12-27T17:56:43.805751Z",
     "iopub.status.busy": "2021-12-27T17:56:43.805177Z",
     "iopub.status.idle": "2021-12-27T17:56:44.052909Z",
     "shell.execute_reply": "2021-12-27T17:56:44.052333Z",
     "shell.execute_reply.started": "2021-12-27T17:06:10.670927Z"
    },
    "papermill": {
     "duration": 0.267994,
     "end_time": "2021-12-27T17:56:44.053136",
     "exception": false,
     "start_time": "2021-12-27T17:56:43.785142",
     "status": "completed"
    },
    "tags": []
   },
   "outputs": [
    {
     "name": "stderr",
     "output_type": "stream",
     "text": [
      "/opt/conda/lib/python3.7/site-packages/seaborn/distributions.py:2619: FutureWarning: `distplot` is a deprecated function and will be removed in a future version. Please adapt your code to use either `displot` (a figure-level function with similar flexibility) or `histplot` (an axes-level function for histograms).\n",
      "  warnings.warn(msg, FutureWarning)\n"
     ]
    },
    {
     "name": "stdout",
     "output_type": "stream",
     "text": [
      "avg age = 54\n",
      "avg age of disiease = 56\n"
     ]
    },
    {
     "data": {
      "image/png": "[encoded data removed]",
      "text/plain": [
       "<Figure size 432x288 with 1 Axes>"
      ]
     },
     "metadata": {
      "needs_background": "light"
     },
     "output_type": "display_data"
    }
   ],
   "source": [
    "sns.distplot(a=data['Age'], kde=False)\n",
    "\n",
    "avg_age = round(data['Age'].mean())\n",
    "\n",
    "avg_heart_disease_age = round(data.loc[data[\"HeartDisease\"]>0].Age.mean())\n",
    "\n",
    "print(f'avg age = {avg_age}\\navg age of disiease = {avg_heart_disease_age}')"
   ]
  },
  {
   "cell_type": "code",
   "execution_count": 8,
   "id": "5d813626",
   "metadata": {
    "execution": {
     "iopub.execute_input": "2021-12-27T17:56:44.132684Z",
     "iopub.status.busy": "2021-12-27T17:56:44.128540Z",
     "iopub.status.idle": "2021-12-27T17:56:44.810146Z",
     "shell.execute_reply": "2021-12-27T17:56:44.809516Z",
     "shell.execute_reply.started": "2021-12-27T17:06:10.951202Z"
    },
    "papermill": {
     "duration": 0.737725,
     "end_time": "2021-12-27T17:56:44.810280",
     "exception": false,
     "start_time": "2021-12-27T17:56:44.072555",
     "status": "completed"
    },
    "tags": []
   },
   "outputs": [
    {
     "name": "stdout",
     "output_type": "stream",
     "text": [
      "Number of males = 725\n",
      "Number of Females = 193\n",
      "\n",
      "        \n",
      "Number of affected males = 458\n",
      "Number of affected females = 50\n",
      "\n",
      "        \n",
      "% of Male with disease= 63.17%\n",
      "% of Female with disease= 25.91%\n",
      "\n"
     ]
    },
    {
     "data": {
      "image/png": "[encoded data removed]",
      "text/plain": [
       "<Figure size 1296x1296 with 6 Axes>"
      ]
     },
     "metadata": {
      "needs_background": "light"
     },
     "output_type": "display_data"
    }
   ],
   "source": [
    "male = data.loc[data['Sex']=='M']\n",
    "female = data.loc[data['Sex']=='F']\n",
    "\n",
    "n_male = len(male)\n",
    "n_female = len(female)\n",
    "\n",
    "n_male_disease = len(male.loc[male[\"HeartDisease\"]>0])\n",
    "n_female_disease = len(female.loc[female[\"HeartDisease\"]>0])\n",
    "\n",
    "print(f'''Number of males = {n_male}\\nNumber of Females = {n_female}\\n\n",
    "        \\nNumber of affected males = {n_male_disease}\\nNumber of affected females = {n_female_disease}\\n\n",
    "        \\n% of Male with disease= {round(n_male_disease/n_male,4)*100}%\\n% of Female with disease= {round(n_female_disease/n_female,4)*100}%\\n''')\n",
    "\n",
    "ROWS, COLS = 2, 3\n",
    "fig, ax = plt.subplots(ROWS, COLS, figsize=(18, 18))\n",
    "row, col = 0, 0\n",
    "for i, categorical_feature in enumerate(categorical_features):\n",
    "    if col == COLS - 1:\n",
    "        row += 1\n",
    "    col = i % COLS\n",
    "    data[categorical_feature].value_counts().plot(kind='bar', ax=ax[row, col],color=['blue', 'red', 'green', 'yellow']).set_title(categorical_feature)\n",
    "\n",
    "\n"
   ]
  },
  {
   "cell_type": "markdown",
   "id": "00179342",
   "metadata": {
    "execution": {
     "iopub.execute_input": "2021-12-27T14:41:22.679601Z",
     "iopub.status.busy": "2021-12-27T14:41:22.678487Z",
     "iopub.status.idle": "2021-12-27T14:41:22.705061Z",
     "shell.execute_reply": "2021-12-27T14:41:22.704248Z",
     "shell.execute_reply.started": "2021-12-27T14:41:22.679561Z"
    },
    "papermill": {
     "duration": 0.020139,
     "end_time": "2021-12-27T17:56:44.850825",
     "exception": false,
     "start_time": "2021-12-27T17:56:44.830686",
     "status": "completed"
    },
    "tags": []
   },
   "source": [
    "The data set it's not balanced.\n",
    "* There are more male samples than female, about 60% of males have a heart disease while about 25% of females do.\n",
    "* There are significaly more cases of ASY chestpain types than the other three and very few of TA chestpain\n",
    "* There are more samples of people that didn't do fasting.\n",
    "* There are more people with normal RestingECG , but more or less the same amounts of the other two types.\n",
    "* There are more people that didn't Excercise angina\n",
    "* There is a significant lack of down ST_Slope values "
   ]
  },
  {
   "cell_type": "code",
   "execution_count": 9,
   "id": "86a896f4",
   "metadata": {
    "execution": {
     "iopub.execute_input": "2021-12-27T17:56:44.918261Z",
     "iopub.status.busy": "2021-12-27T17:56:44.917483Z",
     "iopub.status.idle": "2021-12-27T17:56:44.920706Z",
     "shell.execute_reply": "2021-12-27T17:56:44.921143Z",
     "shell.execute_reply.started": "2021-12-27T17:06:11.822359Z"
    },
    "papermill": {
     "duration": 0.049843,
     "end_time": "2021-12-27T17:56:44.921299",
     "exception": false,
     "start_time": "2021-12-27T17:56:44.871456",
     "status": "completed"
    },
    "tags": []
   },
   "outputs": [
    {
     "data": {
      "text/html": [
       "<div>\n",
       "<style scoped>\n",
       "    .dataframe tbody tr th:only-of-type {\n",
       "        vertical-align: middle;\n",
       "    }\n",
       "\n",
       "    .dataframe tbody tr th {\n",
       "        vertical-align: top;\n",
       "    }\n",
       "\n",
       "    .dataframe thead th {\n",
       "        text-align: right;\n",
       "    }\n",
       "</style>\n",
       "<table border=\"1\" class=\"dataframe\">\n",
       "  <thead>\n",
       "    <tr style=\"text-align: right;\">\n",
       "      <th></th>\n",
       "      <th>Age</th>\n",
       "      <th>Sex</th>\n",
       "      <th>ChestPainType</th>\n",
       "      <th>RestingBP</th>\n",
       "      <th>Cholesterol</th>\n",
       "      <th>FastingBS</th>\n",
       "      <th>RestingECG</th>\n",
       "      <th>MaxHR</th>\n",
       "      <th>ExerciseAngina</th>\n",
       "      <th>Oldpeak</th>\n",
       "      <th>ST_Slope</th>\n",
       "      <th>HeartDisease</th>\n",
       "      <th>SexNormalizer</th>\n",
       "    </tr>\n",
       "  </thead>\n",
       "  <tbody>\n",
       "    <tr>\n",
       "      <th>0</th>\n",
       "      <td>40</td>\n",
       "      <td>M</td>\n",
       "      <td>ATA</td>\n",
       "      <td>140</td>\n",
       "      <td>289</td>\n",
       "      <td>0</td>\n",
       "      <td>Normal</td>\n",
       "      <td>172</td>\n",
       "      <td>N</td>\n",
       "      <td>0.0</td>\n",
       "      <td>Up</td>\n",
       "      <td>0</td>\n",
       "      <td>0.21024</td>\n",
       "    </tr>\n",
       "    <tr>\n",
       "      <th>1</th>\n",
       "      <td>49</td>\n",
       "      <td>F</td>\n",
       "      <td>NAP</td>\n",
       "      <td>160</td>\n",
       "      <td>180</td>\n",
       "      <td>0</td>\n",
       "      <td>Normal</td>\n",
       "      <td>156</td>\n",
       "      <td>N</td>\n",
       "      <td>1.0</td>\n",
       "      <td>Flat</td>\n",
       "      <td>1</td>\n",
       "      <td>0.78976</td>\n",
       "    </tr>\n",
       "    <tr>\n",
       "      <th>2</th>\n",
       "      <td>37</td>\n",
       "      <td>M</td>\n",
       "      <td>ATA</td>\n",
       "      <td>130</td>\n",
       "      <td>283</td>\n",
       "      <td>0</td>\n",
       "      <td>ST</td>\n",
       "      <td>98</td>\n",
       "      <td>N</td>\n",
       "      <td>0.0</td>\n",
       "      <td>Up</td>\n",
       "      <td>0</td>\n",
       "      <td>0.21024</td>\n",
       "    </tr>\n",
       "    <tr>\n",
       "      <th>3</th>\n",
       "      <td>48</td>\n",
       "      <td>F</td>\n",
       "      <td>ASY</td>\n",
       "      <td>138</td>\n",
       "      <td>214</td>\n",
       "      <td>0</td>\n",
       "      <td>Normal</td>\n",
       "      <td>108</td>\n",
       "      <td>Y</td>\n",
       "      <td>1.5</td>\n",
       "      <td>Flat</td>\n",
       "      <td>1</td>\n",
       "      <td>0.78976</td>\n",
       "    </tr>\n",
       "    <tr>\n",
       "      <th>4</th>\n",
       "      <td>54</td>\n",
       "      <td>M</td>\n",
       "      <td>NAP</td>\n",
       "      <td>150</td>\n",
       "      <td>195</td>\n",
       "      <td>0</td>\n",
       "      <td>Normal</td>\n",
       "      <td>122</td>\n",
       "      <td>N</td>\n",
       "      <td>0.0</td>\n",
       "      <td>Up</td>\n",
       "      <td>0</td>\n",
       "      <td>0.21024</td>\n",
       "    </tr>\n",
       "    <tr>\n",
       "      <th>...</th>\n",
       "      <td>...</td>\n",
       "      <td>...</td>\n",
       "      <td>...</td>\n",
       "      <td>...</td>\n",
       "      <td>...</td>\n",
       "      <td>...</td>\n",
       "      <td>...</td>\n",
       "      <td>...</td>\n",
       "      <td>...</td>\n",
       "      <td>...</td>\n",
       "      <td>...</td>\n",
       "      <td>...</td>\n",
       "      <td>...</td>\n",
       "    </tr>\n",
       "    <tr>\n",
       "      <th>913</th>\n",
       "      <td>45</td>\n",
       "      <td>M</td>\n",
       "      <td>TA</td>\n",
       "      <td>110</td>\n",
       "      <td>264</td>\n",
       "      <td>0</td>\n",
       "      <td>Normal</td>\n",
       "      <td>132</td>\n",
       "      <td>N</td>\n",
       "      <td>1.2</td>\n",
       "      <td>Flat</td>\n",
       "      <td>1</td>\n",
       "      <td>0.21024</td>\n",
       "    </tr>\n",
       "    <tr>\n",
       "      <th>914</th>\n",
       "      <td>68</td>\n",
       "      <td>M</td>\n",
       "      <td>ASY</td>\n",
       "      <td>144</td>\n",
       "      <td>193</td>\n",
       "      <td>1</td>\n",
       "      <td>Normal</td>\n",
       "      <td>141</td>\n",
       "      <td>N</td>\n",
       "      <td>3.4</td>\n",
       "      <td>Flat</td>\n",
       "      <td>1</td>\n",
       "      <td>0.21024</td>\n",
       "    </tr>\n",
       "    <tr>\n",
       "      <th>915</th>\n",
       "      <td>57</td>\n",
       "      <td>M</td>\n",
       "      <td>ASY</td>\n",
       "      <td>130</td>\n",
       "      <td>131</td>\n",
       "      <td>0</td>\n",
       "      <td>Normal</td>\n",
       "      <td>115</td>\n",
       "      <td>Y</td>\n",
       "      <td>1.2</td>\n",
       "      <td>Flat</td>\n",
       "      <td>1</td>\n",
       "      <td>0.21024</td>\n",
       "    </tr>\n",
       "    <tr>\n",
       "      <th>916</th>\n",
       "      <td>57</td>\n",
       "      <td>F</td>\n",
       "      <td>ATA</td>\n",
       "      <td>130</td>\n",
       "      <td>236</td>\n",
       "      <td>0</td>\n",
       "      <td>LVH</td>\n",
       "      <td>174</td>\n",
       "      <td>N</td>\n",
       "      <td>0.0</td>\n",
       "      <td>Flat</td>\n",
       "      <td>1</td>\n",
       "      <td>0.78976</td>\n",
       "    </tr>\n",
       "    <tr>\n",
       "      <th>917</th>\n",
       "      <td>38</td>\n",
       "      <td>M</td>\n",
       "      <td>NAP</td>\n",
       "      <td>138</td>\n",
       "      <td>175</td>\n",
       "      <td>0</td>\n",
       "      <td>Normal</td>\n",
       "      <td>173</td>\n",
       "      <td>N</td>\n",
       "      <td>0.0</td>\n",
       "      <td>Up</td>\n",
       "      <td>0</td>\n",
       "      <td>0.21024</td>\n",
       "    </tr>\n",
       "  </tbody>\n",
       "</table>\n",
       "<p>918 rows × 13 columns</p>\n",
       "</div>"
      ],
      "text/plain": [
       "     Age Sex ChestPainType  RestingBP  Cholesterol  FastingBS RestingECG  \\\n",
       "0     40   M           ATA        140          289          0     Normal   \n",
       "1     49   F           NAP        160          180          0     Normal   \n",
       "2     37   M           ATA        130          283          0         ST   \n",
       "3     48   F           ASY        138          214          0     Normal   \n",
       "4     54   M           NAP        150          195          0     Normal   \n",
       "..   ...  ..           ...        ...          ...        ...        ...   \n",
       "913   45   M            TA        110          264          0     Normal   \n",
       "914   68   M           ASY        144          193          1     Normal   \n",
       "915   57   M           ASY        130          131          0     Normal   \n",
       "916   57   F           ATA        130          236          0        LVH   \n",
       "917   38   M           NAP        138          175          0     Normal   \n",
       "\n",
       "     MaxHR ExerciseAngina  Oldpeak ST_Slope  HeartDisease  SexNormalizer  \n",
       "0      172              N      0.0       Up             0        0.21024  \n",
       "1      156              N      1.0     Flat             1        0.78976  \n",
       "2       98              N      0.0       Up             0        0.21024  \n",
       "3      108              Y      1.5     Flat             1        0.78976  \n",
       "4      122              N      0.0       Up             0        0.21024  \n",
       "..     ...            ...      ...      ...           ...            ...  \n",
       "913    132              N      1.2     Flat             1        0.21024  \n",
       "914    141              N      3.4     Flat             1        0.21024  \n",
       "915    115              Y      1.2     Flat             1        0.21024  \n",
       "916    174              N      0.0     Flat             1        0.78976  \n",
       "917    173              N      0.0       Up             0        0.21024  \n",
       "\n",
       "[918 rows x 13 columns]"
      ]
     },
     "execution_count": 9,
     "metadata": {},
     "output_type": "execute_result"
    }
   ],
   "source": [
    "#creating a normalizeing value for Sex,which might be used later.Females will have higher values due to under representation.\n",
    "male_normalized = 1 - n_male / len(data)\n",
    "female_normalized = 1 - n_female / len(data)\n",
    "data['SexNormalizer'] = 0\n",
    "data.loc[data.Sex=='F','SexNormalizer']=female_normalized\n",
    "data.loc[data.Sex=='M','SexNormalizer']=male_normalized\n",
    "data"
   ]
  },
  {
   "cell_type": "code",
   "execution_count": 10,
   "id": "a710b8d8",
   "metadata": {
    "execution": {
     "iopub.execute_input": "2021-12-27T17:56:44.975861Z",
     "iopub.status.busy": "2021-12-27T17:56:44.974931Z",
     "iopub.status.idle": "2021-12-27T17:56:45.010013Z",
     "shell.execute_reply": "2021-12-27T17:56:45.010814Z",
     "shell.execute_reply.started": "2021-12-27T17:06:11.861453Z"
    },
    "papermill": {
     "duration": 0.066325,
     "end_time": "2021-12-27T17:56:45.011062",
     "exception": false,
     "start_time": "2021-12-27T17:56:44.944737",
     "status": "completed"
    },
    "tags": []
   },
   "outputs": [
    {
     "data": {
      "text/html": [
       "<div>\n",
       "<style scoped>\n",
       "    .dataframe tbody tr th:only-of-type {\n",
       "        vertical-align: middle;\n",
       "    }\n",
       "\n",
       "    .dataframe tbody tr th {\n",
       "        vertical-align: top;\n",
       "    }\n",
       "\n",
       "    .dataframe thead th {\n",
       "        text-align: right;\n",
       "    }\n",
       "</style>\n",
       "<table border=\"1\" class=\"dataframe\">\n",
       "  <thead>\n",
       "    <tr style=\"text-align: right;\">\n",
       "      <th></th>\n",
       "      <th>Age</th>\n",
       "      <th>RestingBP</th>\n",
       "      <th>Cholesterol</th>\n",
       "      <th>MaxHR</th>\n",
       "      <th>Oldpeak</th>\n",
       "    </tr>\n",
       "  </thead>\n",
       "  <tbody>\n",
       "    <tr>\n",
       "      <th>count</th>\n",
       "      <td>918.000000</td>\n",
       "      <td>918.000000</td>\n",
       "      <td>918.000000</td>\n",
       "      <td>918.000000</td>\n",
       "      <td>918.000000</td>\n",
       "    </tr>\n",
       "    <tr>\n",
       "      <th>mean</th>\n",
       "      <td>53.510893</td>\n",
       "      <td>132.396514</td>\n",
       "      <td>198.799564</td>\n",
       "      <td>136.809368</td>\n",
       "      <td>0.887364</td>\n",
       "    </tr>\n",
       "    <tr>\n",
       "      <th>std</th>\n",
       "      <td>9.432617</td>\n",
       "      <td>18.514154</td>\n",
       "      <td>109.384145</td>\n",
       "      <td>25.460334</td>\n",
       "      <td>1.066570</td>\n",
       "    </tr>\n",
       "    <tr>\n",
       "      <th>min</th>\n",
       "      <td>28.000000</td>\n",
       "      <td>0.000000</td>\n",
       "      <td>0.000000</td>\n",
       "      <td>60.000000</td>\n",
       "      <td>-2.600000</td>\n",
       "    </tr>\n",
       "    <tr>\n",
       "      <th>25%</th>\n",
       "      <td>47.000000</td>\n",
       "      <td>120.000000</td>\n",
       "      <td>173.250000</td>\n",
       "      <td>120.000000</td>\n",
       "      <td>0.000000</td>\n",
       "    </tr>\n",
       "    <tr>\n",
       "      <th>50%</th>\n",
       "      <td>54.000000</td>\n",
       "      <td>130.000000</td>\n",
       "      <td>223.000000</td>\n",
       "      <td>138.000000</td>\n",
       "      <td>0.600000</td>\n",
       "    </tr>\n",
       "    <tr>\n",
       "      <th>75%</th>\n",
       "      <td>60.000000</td>\n",
       "      <td>140.000000</td>\n",
       "      <td>267.000000</td>\n",
       "      <td>156.000000</td>\n",
       "      <td>1.500000</td>\n",
       "    </tr>\n",
       "    <tr>\n",
       "      <th>max</th>\n",
       "      <td>77.000000</td>\n",
       "      <td>200.000000</td>\n",
       "      <td>603.000000</td>\n",
       "      <td>202.000000</td>\n",
       "      <td>6.200000</td>\n",
       "    </tr>\n",
       "  </tbody>\n",
       "</table>\n",
       "</div>"
      ],
      "text/plain": [
       "              Age   RestingBP  Cholesterol       MaxHR     Oldpeak\n",
       "count  918.000000  918.000000   918.000000  918.000000  918.000000\n",
       "mean    53.510893  132.396514   198.799564  136.809368    0.887364\n",
       "std      9.432617   18.514154   109.384145   25.460334    1.066570\n",
       "min     28.000000    0.000000     0.000000   60.000000   -2.600000\n",
       "25%     47.000000  120.000000   173.250000  120.000000    0.000000\n",
       "50%     54.000000  130.000000   223.000000  138.000000    0.600000\n",
       "75%     60.000000  140.000000   267.000000  156.000000    1.500000\n",
       "max     77.000000  200.000000   603.000000  202.000000    6.200000"
      ]
     },
     "execution_count": 10,
     "metadata": {},
     "output_type": "execute_result"
    }
   ],
   "source": [
    "data[numerical_features].describe()"
   ]
  },
  {
   "cell_type": "code",
   "execution_count": 11,
   "id": "67ac76b3",
   "metadata": {
    "execution": {
     "iopub.execute_input": "2021-12-27T17:56:45.064961Z",
     "iopub.status.busy": "2021-12-27T17:56:45.064089Z",
     "iopub.status.idle": "2021-12-27T17:56:45.258400Z",
     "shell.execute_reply": "2021-12-27T17:56:45.257929Z",
     "shell.execute_reply.started": "2021-12-27T17:06:11.893418Z"
    },
    "papermill": {
     "duration": 0.220143,
     "end_time": "2021-12-27T17:56:45.258537",
     "exception": false,
     "start_time": "2021-12-27T17:56:45.038394",
     "status": "completed"
    },
    "tags": []
   },
   "outputs": [
    {
     "data": {
      "text/plain": [
       "<AxesSubplot:>"
      ]
     },
     "execution_count": 11,
     "metadata": {},
     "output_type": "execute_result"
    },
    {
     "data": {
      "image/png": "[encoded data removed]",
      "text/plain": [
       "<Figure size 432x288 with 1 Axes>"
      ]
     },
     "metadata": {
      "needs_background": "light"
     },
     "output_type": "display_data"
    }
   ],
   "source": [
    "#Age group might be more usefull than age later on,dataset ages go up to 77 years old so I'll call the last category 70 or more in case the model recibes data from an 80+ patient.\n",
    "data['Age_group'] = pd.cut(x=data['Age'], bins=[30, 40, 50, 60, 70, 80],\n",
    "                            labels=['30 to 40', '40 to 50', '50 to 60', '60 to 70', '70 or more'])\n",
    "\n",
    "data['Age_group'].value_counts().plot(kind='bar')"
   ]
  },
  {
   "cell_type": "markdown",
   "id": "763822dc",
   "metadata": {
    "papermill": {
     "duration": 0.021888,
     "end_time": "2021-12-27T17:56:45.302831",
     "exception": false,
     "start_time": "2021-12-27T17:56:45.280943",
     "status": "completed"
    },
    "tags": []
   },
   "source": [
    "Most of the samples age are around 50-60 years old"
   ]
  },
  {
   "cell_type": "code",
   "execution_count": 12,
   "id": "e4101702",
   "metadata": {
    "execution": {
     "iopub.execute_input": "2021-12-27T17:56:45.349833Z",
     "iopub.status.busy": "2021-12-27T17:56:45.349269Z",
     "iopub.status.idle": "2021-12-27T17:56:45.583886Z",
     "shell.execute_reply": "2021-12-27T17:56:45.583298Z",
     "shell.execute_reply.started": "2021-12-27T17:06:12.127165Z"
    },
    "papermill": {
     "duration": 0.259097,
     "end_time": "2021-12-27T17:56:45.584022",
     "exception": false,
     "start_time": "2021-12-27T17:56:45.324925",
     "status": "completed"
    },
    "tags": []
   },
   "outputs": [
    {
     "name": "stdout",
     "output_type": "stream",
     "text": [
      "30 to 40      0.363636\n",
      "40 to 50      0.417040\n",
      "50 to 60      0.582677\n",
      "60 to 70      0.736041\n",
      "70 or more    0.666667\n",
      "Name: Age_group, dtype: float64\n"
     ]
    },
    {
     "data": {
      "image/png": "[encoded data removed]",
      "text/plain": [
       "<Figure size 720x360 with 1 Axes>"
      ]
     },
     "metadata": {
      "needs_background": "light"
     },
     "output_type": "display_data"
    }
   ],
   "source": [
    "#Seeing how many of each group got a heath disease\n",
    "fig, ax = plt.subplots(1, 1, figsize=(10, 5))\n",
    "data[data[\"HeartDisease\"]<1]['Age_group'].hist(bins=14, color=\"blue\", alpha=0.8)\n",
    "data[data[\"HeartDisease\"]>0]['Age_group'].hist(bins=14, color=\"red\", alpha=0.5)\n",
    "\n",
    "age_group_heart_desiease_ratio = data[data[\"HeartDisease\"]>0]['Age_group'].value_counts()/data['Age_group'].value_counts()\n",
    "print(age_group_heart_desiease_ratio)"
   ]
  },
  {
   "cell_type": "markdown",
   "id": "f809ca2b",
   "metadata": {
    "papermill": {
     "duration": 0.023167,
     "end_time": "2021-12-27T17:56:45.630791",
     "exception": false,
     "start_time": "2021-12-27T17:56:45.607624",
     "status": "completed"
    },
    "tags": []
   },
   "source": [
    "From this graph we can get that people around 50 to 70+ years old are more propense into haveing a hearth disease. 70+ might be the least represented group but its second highest ratio of heart disease"
   ]
  },
  {
   "cell_type": "code",
   "execution_count": 13,
   "id": "067d86d1",
   "metadata": {
    "execution": {
     "iopub.execute_input": "2021-12-27T17:56:45.681212Z",
     "iopub.status.busy": "2021-12-27T17:56:45.680551Z",
     "iopub.status.idle": "2021-12-27T17:56:46.930193Z",
     "shell.execute_reply": "2021-12-27T17:56:46.929692Z",
     "shell.execute_reply.started": "2021-12-27T17:06:12.405657Z"
    },
    "papermill": {
     "duration": 1.275328,
     "end_time": "2021-12-27T17:56:46.930338",
     "exception": false,
     "start_time": "2021-12-27T17:56:45.655010",
     "status": "completed"
    },
    "tags": []
   },
   "outputs": [
    {
     "data": {
      "text/plain": [
       "array([<AxesSubplot:title={'center':'Age'}>,\n",
       "       <AxesSubplot:title={'center':'RestingBP'}>,\n",
       "       <AxesSubplot:title={'center':'Cholesterol'}>,\n",
       "       <AxesSubplot:title={'center':'MaxHR'}>,\n",
       "       <AxesSubplot:title={'center':'Oldpeak'}>], dtype=object)"
      ]
     },
     "execution_count": 13,
     "metadata": {},
     "output_type": "execute_result"
    },
    {
     "data": {
      "image/png": "[encoded data removed]",
      "text/plain": [
       "<Figure size 1440x360 with 5 Axes>"
      ]
     },
     "metadata": {
      "needs_background": "light"
     },
     "output_type": "display_data"
    }
   ],
   "source": [
    "fig, ax = plt.subplots(1, 5, figsize=(20, 5))\n",
    "data[data[\"HeartDisease\"]<1][numerical_features].hist(bins=30, color=\"blue\", alpha=0.5, ax=ax)\n",
    "data[data[\"HeartDisease\"]>0][numerical_features].hist(bins=30, color=\"red\", alpha=0.5, ax=ax)"
   ]
  },
  {
   "cell_type": "markdown",
   "id": "0204079c",
   "metadata": {
    "papermill": {
     "duration": 0.02337,
     "end_time": "2021-12-27T17:56:46.977793",
     "exception": false,
     "start_time": "2021-12-27T17:56:46.954423",
     "status": "completed"
    },
    "tags": []
   },
   "source": [
    "#### The blue color represents people who didn't got a hearth disease while red represents the oposite.\n",
    "* People with a Max HearthRate bellow 150 were more likely to have a hearth disease\n",
    "* Almost all people with an oldpeak diferent than 0 ,the further away from 0 the less likely to find people that didn't have a hearth disease.\n",
    "* People who had Unhealthy levels of cholesterol (around 125-200 are the healthy levels of total cholesterol for adults) got higher chances of haveing a hearth disease, it seems some of the people show with 0 which its not possible, I'll replace them with median.\n",
    "* People with a higher blood resting pressure got higher chances of getting a hearth disease(specially the ones that got between ~110-140), there are one or two with 0 blood pressure which basicaly means that the person is dead so I'll change them with median too.\n",
    "* As for age it was discussed on previous cells. People of ages 50-70 were more propence to have a heath disease."
   ]
  },
  {
   "cell_type": "code",
   "execution_count": 14,
   "id": "c1feff67",
   "metadata": {
    "execution": {
     "iopub.execute_input": "2021-12-27T17:56:47.030731Z",
     "iopub.status.busy": "2021-12-27T17:56:47.029816Z",
     "iopub.status.idle": "2021-12-27T17:56:47.041617Z",
     "shell.execute_reply": "2021-12-27T17:56:47.042045Z",
     "shell.execute_reply.started": "2021-12-27T17:06:13.938311Z"
    },
    "papermill": {
     "duration": 0.040552,
     "end_time": "2021-12-27T17:56:47.042208",
     "exception": false,
     "start_time": "2021-12-27T17:56:47.001656",
     "status": "completed"
    },
    "tags": []
   },
   "outputs": [],
   "source": [
    "data['Cholesterol'] = data['Cholesterol'].apply(lambda x:data['Cholesterol'].median() if x==0 else x)\n",
    "data['RestingBP'] = data['RestingBP'].apply(lambda x:data['RestingBP'].median() if x==0 else x)"
   ]
  },
  {
   "cell_type": "code",
   "execution_count": 15,
   "id": "211eceef",
   "metadata": {
    "execution": {
     "iopub.execute_input": "2021-12-27T17:56:47.150017Z",
     "iopub.status.busy": "2021-12-27T17:56:47.105769Z",
     "iopub.status.idle": "2021-12-27T17:56:48.276852Z",
     "shell.execute_reply": "2021-12-27T17:56:48.276311Z",
     "shell.execute_reply.started": "2021-12-27T17:06:13.957745Z"
    },
    "papermill": {
     "duration": 1.210907,
     "end_time": "2021-12-27T17:56:48.276988",
     "exception": false,
     "start_time": "2021-12-27T17:56:47.066081",
     "status": "completed"
    },
    "tags": []
   },
   "outputs": [
    {
     "data": {
      "text/plain": [
       "array([<AxesSubplot:title={'center':'Age'}>,\n",
       "       <AxesSubplot:title={'center':'RestingBP'}>,\n",
       "       <AxesSubplot:title={'center':'Cholesterol'}>,\n",
       "       <AxesSubplot:title={'center':'MaxHR'}>,\n",
       "       <AxesSubplot:title={'center':'Oldpeak'}>], dtype=object)"
      ]
     },
     "execution_count": 15,
     "metadata": {},
     "output_type": "execute_result"
    },
    {
     "data": {
      "image/png": "[encoded data removed]",
      "text/plain": [
       "<Figure size 1440x360 with 5 Axes>"
      ]
     },
     "metadata": {
      "needs_background": "light"
     },
     "output_type": "display_data"
    }
   ],
   "source": [
    "fig, ax = plt.subplots(1, 5, figsize=(20, 5))\n",
    "data[data[\"HeartDisease\"]<1][numerical_features].hist(bins=30, color=\"blue\", alpha=0.5, ax=ax)\n",
    "data[data[\"HeartDisease\"]>0][numerical_features].hist(bins=30, color=\"red\", alpha=0.5, ax=ax)"
   ]
  },
  {
   "cell_type": "code",
   "execution_count": 16,
   "id": "67438121",
   "metadata": {
    "execution": {
     "iopub.execute_input": "2021-12-27T17:56:48.333695Z",
     "iopub.status.busy": "2021-12-27T17:56:48.333093Z",
     "iopub.status.idle": "2021-12-27T17:56:48.540069Z",
     "shell.execute_reply": "2021-12-27T17:56:48.539639Z",
     "shell.execute_reply.started": "2021-12-27T17:11:50.202159Z"
    },
    "papermill": {
     "duration": 0.237433,
     "end_time": "2021-12-27T17:56:48.540211",
     "exception": false,
     "start_time": "2021-12-27T17:56:48.302778",
     "status": "completed"
    },
    "tags": []
   },
   "outputs": [
    {
     "data": {
      "text/plain": [
       "<AxesSubplot:>"
      ]
     },
     "execution_count": 16,
     "metadata": {},
     "output_type": "execute_result"
    },
    {
     "data": {
      "image/png": "[encoded data removed]",
      "text/plain": [
       "<Figure size 432x288 with 1 Axes>"
      ]
     },
     "metadata": {
      "needs_background": "light"
     },
     "output_type": "display_data"
    }
   ],
   "source": [
    "data[data['Sex']=='M']['ChestPainType'].hist(bins=8, color=\"blue\", alpha=0.5)\n",
    "data[data['Sex']=='F']['ChestPainType'].hist(bins=8, color=\"red\", alpha=0.5)"
   ]
  },
  {
   "cell_type": "markdown",
   "id": "4c0bd467",
   "metadata": {
    "execution": {
     "iopub.execute_input": "2021-12-27T17:15:57.721325Z",
     "iopub.status.busy": "2021-12-27T17:15:57.720590Z",
     "iopub.status.idle": "2021-12-27T17:15:58.048120Z",
     "shell.execute_reply": "2021-12-27T17:15:58.047077Z",
     "shell.execute_reply.started": "2021-12-27T17:15:57.721280Z"
    },
    "papermill": {
     "duration": 0.025524,
     "end_time": "2021-12-27T17:56:48.592192",
     "exception": false,
     "start_time": "2021-12-27T17:56:48.566668",
     "status": "completed"
    },
    "tags": []
   },
   "source": [
    "Males seem to get more asyntomatic chest pains"
   ]
  },
  {
   "cell_type": "code",
   "execution_count": 17,
   "id": "3b9d4f3b",
   "metadata": {
    "execution": {
     "iopub.execute_input": "2021-12-27T17:56:48.646661Z",
     "iopub.status.busy": "2021-12-27T17:56:48.646061Z",
     "iopub.status.idle": "2021-12-27T17:56:48.652047Z",
     "shell.execute_reply": "2021-12-27T17:56:48.651489Z",
     "shell.execute_reply.started": "2021-12-27T17:29:12.981792Z"
    },
    "papermill": {
     "duration": 0.034134,
     "end_time": "2021-12-27T17:56:48.652168",
     "exception": false,
     "start_time": "2021-12-27T17:56:48.618034",
     "status": "completed"
    },
    "tags": []
   },
   "outputs": [],
   "source": [
    "male = data.loc[data['Sex']=='M']\n",
    "female = data.loc[data['Sex']=='F']"
   ]
  },
  {
   "cell_type": "code",
   "execution_count": 18,
   "id": "185ae38d",
   "metadata": {
    "execution": {
     "iopub.execute_input": "2021-12-27T17:56:48.706819Z",
     "iopub.status.busy": "2021-12-27T17:56:48.706223Z",
     "iopub.status.idle": "2021-12-27T17:56:48.908634Z",
     "shell.execute_reply": "2021-12-27T17:56:48.908000Z",
     "shell.execute_reply.started": "2021-12-27T17:31:33.589978Z"
    },
    "papermill": {
     "duration": 0.231011,
     "end_time": "2021-12-27T17:56:48.908782",
     "exception": false,
     "start_time": "2021-12-27T17:56:48.677771",
     "status": "completed"
    },
    "tags": []
   },
   "outputs": [
    {
     "data": {
      "text/plain": [
       "<AxesSubplot:>"
      ]
     },
     "execution_count": 18,
     "metadata": {},
     "output_type": "execute_result"
    },
    {
     "data": {
      "image/png": "[encoded data removed]",
      "text/plain": [
       "<Figure size 432x288 with 1 Axes>"
      ]
     },
     "metadata": {
      "needs_background": "light"
     },
     "output_type": "display_data"
    }
   ],
   "source": [
    "male[male[\"HeartDisease\"]<1]['ChestPainType'].hist(bins=8, color=\"green\", alpha=0.5)\n",
    "male[male[\"HeartDisease\"]>0]['ChestPainType'].hist(bins=8, color=\"red\", alpha=0.5)"
   ]
  },
  {
   "cell_type": "code",
   "execution_count": 19,
   "id": "19cca5ee",
   "metadata": {
    "execution": {
     "iopub.execute_input": "2021-12-27T17:56:48.965658Z",
     "iopub.status.busy": "2021-12-27T17:56:48.964782Z",
     "iopub.status.idle": "2021-12-27T17:56:49.158765Z",
     "shell.execute_reply": "2021-12-27T17:56:49.159316Z",
     "shell.execute_reply.started": "2021-12-27T17:32:13.892199Z"
    },
    "papermill": {
     "duration": 0.223918,
     "end_time": "2021-12-27T17:56:49.159477",
     "exception": false,
     "start_time": "2021-12-27T17:56:48.935559",
     "status": "completed"
    },
    "tags": []
   },
   "outputs": [
    {
     "data": {
      "text/plain": [
       "<AxesSubplot:>"
      ]
     },
     "execution_count": 19,
     "metadata": {},
     "output_type": "execute_result"
    },
    {
     "data": {
      "image/png": "[encoded data removed]",
      "text/plain": [
       "<Figure size 432x288 with 1 Axes>"
      ]
     },
     "metadata": {
      "needs_background": "light"
     },
     "output_type": "display_data"
    }
   ],
   "source": [
    "female[female[\"HeartDisease\"]<1]['ChestPainType'].hist(bins=8, color=\"green\", alpha=0.5)\n",
    "female[female[\"HeartDisease\"]>0]['ChestPainType'].hist(bins=8, color=\"red\", alpha=0.5)"
   ]
  },
  {
   "cell_type": "markdown",
   "id": "072aebf0",
   "metadata": {
    "papermill": {
     "duration": 0.027214,
     "end_time": "2021-12-27T17:56:49.213933",
     "exception": false,
     "start_time": "2021-12-27T17:56:49.186719",
     "status": "completed"
    },
    "tags": []
   },
   "source": [
    "Asymtomatic chest pains seem to be the most dangerous for both male and female"
   ]
  },
  {
   "cell_type": "code",
   "execution_count": 20,
   "id": "491eea02",
   "metadata": {
    "execution": {
     "iopub.execute_input": "2021-12-27T17:56:49.272419Z",
     "iopub.status.busy": "2021-12-27T17:56:49.271502Z",
     "iopub.status.idle": "2021-12-27T17:56:49.836495Z",
     "shell.execute_reply": "2021-12-27T17:56:49.836076Z",
     "shell.execute_reply.started": "2021-12-27T17:52:11.631010Z"
    },
    "papermill": {
     "duration": 0.595324,
     "end_time": "2021-12-27T17:56:49.836668",
     "exception": false,
     "start_time": "2021-12-27T17:56:49.241344",
     "status": "completed"
    },
    "tags": []
   },
   "outputs": [
    {
     "data": {
      "text/plain": [
       "<AxesSubplot:xlabel='Cholesterol', ylabel='Count'>"
      ]
     },
     "execution_count": 20,
     "metadata": {},
     "output_type": "execute_result"
    },
    {
     "data": {
      "image/png": "[encoded data removed]",
      "text/plain": [
       "<Figure size 432x288 with 1 Axes>"
      ]
     },
     "metadata": {
      "needs_background": "light"
     },
     "output_type": "display_data"
    }
   ],
   "source": [
    "sns.histplot(data=data, x=\"Cholesterol\", hue=\"Sex\")"
   ]
  },
  {
   "cell_type": "markdown",
   "id": "caed30ed",
   "metadata": {
    "execution": {
     "iopub.execute_input": "2021-12-27T17:43:26.006962Z",
     "iopub.status.busy": "2021-12-27T17:43:26.006054Z",
     "iopub.status.idle": "2021-12-27T17:43:26.013169Z",
     "shell.execute_reply": "2021-12-27T17:43:26.012128Z",
     "shell.execute_reply.started": "2021-12-27T17:43:26.006918Z"
    },
    "papermill": {
     "duration": 0.028199,
     "end_time": "2021-12-27T17:56:49.892891",
     "exception": false,
     "start_time": "2021-12-27T17:56:49.864692",
     "status": "completed"
    },
    "tags": []
   },
   "source": [
    "Males have more cholesterol levels than females"
   ]
  },
  {
   "cell_type": "code",
   "execution_count": 21,
   "id": "bd157ae0",
   "metadata": {
    "execution": {
     "iopub.execute_input": "2021-12-27T17:56:49.952631Z",
     "iopub.status.busy": "2021-12-27T17:56:49.952053Z",
     "iopub.status.idle": "2021-12-27T17:56:50.222316Z",
     "shell.execute_reply": "2021-12-27T17:56:50.221779Z",
     "shell.execute_reply.started": "2021-12-27T17:54:16.718972Z"
    },
    "papermill": {
     "duration": 0.300526,
     "end_time": "2021-12-27T17:56:50.222444",
     "exception": false,
     "start_time": "2021-12-27T17:56:49.921918",
     "status": "completed"
    },
    "tags": []
   },
   "outputs": [
    {
     "data": {
      "text/plain": [
       "<AxesSubplot:xlabel='Cholesterol', ylabel='Count'>"
      ]
     },
     "execution_count": 21,
     "metadata": {},
     "output_type": "execute_result"
    },
    {
     "data": {
      "image/png": "[encoded data removed]",
      "text/plain": [
       "<Figure size 432x288 with 1 Axes>"
      ]
     },
     "metadata": {
      "needs_background": "light"
     },
     "output_type": "display_data"
    }
   ],
   "source": [
    "sns.histplot(data=data, x=\"Cholesterol\", hue=\"ChestPainType\", element=\"poly\")"
   ]
  },
  {
   "cell_type": "code",
   "execution_count": null,
   "id": "e5488013",
   "metadata": {
    "papermill": {
     "duration": 0.028941,
     "end_time": "2021-12-27T17:56:50.281393",
     "exception": false,
     "start_time": "2021-12-27T17:56:50.252452",
     "status": "completed"
    },
    "tags": []
   },
   "outputs": [],
   "source": []
  }
 ],
 "metadata": {
  "kernelspec": {
   "display_name": "Python 3",
   "language": "python",
   "name": "python3"
  },
  "language_info": {
   "codemirror_mode": {
    "name": "ipython",
    "version": 3
   },
   "file_extension": ".py",
   "mimetype": "text/x-python",
   "name": "python",
   "nbconvert_exporter": "python",
   "pygments_lexer": "ipython3",
   "version": "3.7.12"
  },
  "papermill": {
   "default_parameters": {},
   "duration": 16.510561,
   "end_time": "2021-12-27T17:56:51.020776",
   "environment_variables": {},
   "exception": null,
   "input_path": "__notebook__.ipynb",
   "output_path": "__notebook__.ipynb",
   "parameters": {},
   "start_time": "2021-12-27T17:56:34.510215",
   "version": "2.3.3"
  }
 },
 "nbformat": 4,
 "nbformat_minor": 5
}
